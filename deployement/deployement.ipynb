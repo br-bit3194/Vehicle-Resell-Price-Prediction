{
 "cells": [
  {
   "cell_type": "code",
   "execution_count": 1,
   "metadata": {},
   "outputs": [
    {
     "name": "stdout",
     "output_type": "stream",
     "text": [
      " * Serving Flask app \"__main__\" (lazy loading)\n",
      " * Environment: production\n",
      "   WARNING: This is a development server. Do not use it in a production deployment.\n",
      "   Use a production WSGI server instead.\n",
      " * Debug mode: off\n"
     ]
    },
    {
     "name": "stderr",
     "output_type": "stream",
     "text": [
      " * Running on http://127.0.0.1:5000/ (Press CTRL+C to quit)\n",
      "127.0.0.1 - - [02/Nov/2020 17:12:19] \"\u001b[37mGET / HTTP/1.1\u001b[0m\" 200 -\n",
      "127.0.0.1 - - [02/Nov/2020 17:12:20] \"\u001b[33mGET /favicon.ico HTTP/1.1\u001b[0m\" 404 -\n",
      "127.0.0.1 - - [02/Nov/2020 17:12:46] \"\u001b[37mPOST /result HTTP/1.1\u001b[0m\" 200 -\n"
     ]
    }
   ],
   "source": [
    "import pickle\n",
    "import numpy as np\n",
    "from flask import Flask, request, redirect, render_template,jsonify,json,make_response\n",
    "\n",
    "filename=r'vehicle_resell_price_pred.pkl'\n",
    "model=pickle.load(open(filename,'rb'))\n",
    "\n",
    "app=Flask(__name__,template_folder='templates')\n",
    "\n",
    "@app.route('/')\n",
    "def home():\n",
    "    return render_template(r\"DMBI.html\")\n",
    "\n",
    "\n",
    "# prediction function \n",
    "@app.route('/result', methods = ['POST']) \n",
    "def result(): \n",
    "    if request.method == 'POST': \n",
    "        \n",
    "        year = int(request.form.get('year'))\n",
    "        km_driven = np.log10(float(request.form.get('km_driven')))\n",
    "        curr_price = float(request.form.get('curr_price'))\n",
    "        fuel = 1 if(request.form.get('fuel').lower()=='petrol') else 0\n",
    "        \n",
    "        trans = 1 if(request.form.get('trans').lower()=='yes') else 0\n",
    "        seller = 0 if(request.form.get('seller').lower()=='dealer') else 1\n",
    "        owner = int(request.form.get('owner'))\n",
    "        car_age=2020-year\n",
    "        \n",
    "        pred=model.predict(np.array([trans,seller,fuel,curr_price,owner,car_age,km_driven]).reshape(1,-1))\n",
    "        \n",
    "        pred=pred*100000\n",
    "#         pred=round(pred,2)\n",
    "        return render_template(r\"Selling_price.html\", prediction = pred) \n",
    "        \n",
    "    \n",
    "if __name__ == \"__main__\":\n",
    "    app.run()"
   ]
  },
  {
   "cell_type": "code",
   "execution_count": null,
   "metadata": {},
   "outputs": [],
   "source": []
  }
 ],
 "metadata": {
  "kernelspec": {
   "display_name": "Python 3",
   "language": "python",
   "name": "python3"
  },
  "language_info": {
   "codemirror_mode": {
    "name": "ipython",
    "version": 3
   },
   "file_extension": ".py",
   "mimetype": "text/x-python",
   "name": "python",
   "nbconvert_exporter": "python",
   "pygments_lexer": "ipython3",
   "version": "3.7.6"
  }
 },
 "nbformat": 4,
 "nbformat_minor": 4
}
